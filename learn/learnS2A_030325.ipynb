{
  "cells": [
    {
      "cell_type": "markdown",
      "metadata": {
        "id": "K2ltUIFtSIRo"
      },
      "source": [
        "## Imports and Set up\n"
      ]
    },
    {
      "cell_type": "code",
      "execution_count": 14,
      "metadata": {
        "id": "j4bFtFg6LITX",
        "colab": {
          "base_uri": "https://localhost:8080/"
        },
        "outputId": "9df07d30-f9fe-47c8-dd3b-1d6f3c3b75fb"
      },
      "outputs": [
        {
          "output_type": "stream",
          "name": "stdout",
          "text": [
            "Using device: cpu\n"
          ]
        }
      ],
      "source": [
        "import numpy as np\n",
        "import pandas as pd\n",
        "import torch\n",
        "import torch.nn as nn\n",
        "import torch.optim as optim\n",
        "from sklearn.model_selection import train_test_split\n",
        "from sklearn.preprocessing import StandardScaler\n",
        "\n",
        "device = torch.device(\"cuda\" if torch.cuda.is_available() else \"cpu\")\n",
        "print(f\"Using device: {device}\")\n",
        "\n",
        "df = pd.read_csv(\"flocking_250301.csv\")\n"
      ]
    },
    {
      "cell_type": "markdown",
      "metadata": {
        "id": "Q2Cd4Pf9SkM9"
      },
      "source": [
        "## Prepare Data"
      ]
    },
    {
      "cell_type": "code",
      "execution_count": 15,
      "metadata": {
        "id": "65bvpyHhL7Jw"
      },
      "outputs": [],
      "source": [
        "df[\"NeighborDiffSum\"] = df[\"NeighborDiffSum\"].apply(lambda x: eval(x) if isinstance(x, str) else x)\n",
        "df[\"Angle\"] = df[\"Angle\"].astype(float)\n",
        "\n",
        "\"\"\"\n",
        "group data according to each time step\n",
        "\"\"\"\n",
        "grouped = df.groupby(\"Step\").agg(list)\n",
        "neighbor_diff_sum = np.array(grouped[\"NeighborDiffSum\"].to_list())  # Shape: (num_steps, num_agents, 2)\n",
        "angles = np.array(grouped[\"Angle\"].to_list()).reshape(len(grouped), len(grouped.iloc[0][\"Angle\"]), 1)  # Shape: (num_steps, num_agents, 1)\n",
        "\n",
        "delta_angle = np.zeros_like(angles)\n",
        "delta_angle[1:] = angles[1:] - angles[:-1] # Shape: (num_steps, num_agents, 1)\n",
        "\n",
        "grouped[\"deltaAngle\"] = delta_angle.reshape(len(grouped), -1).tolist()\n",
        "\n",
        "X_train, X_test, y_train, y_test = train_test_split(neighbor_diff_sum, delta_angle, test_size=0.2, random_state=42)\n",
        "\n",
        "# to PyTorch tensors\n",
        "X_train_tensor = torch.tensor(X_train, dtype=torch.float32)\n",
        "X_test_tensor = torch.tensor(X_test, dtype=torch.float32)\n",
        "y_train_tensor = torch.tensor(y_train, dtype=torch.float32)\n",
        "y_test_tensor = torch.tensor(y_test, dtype=torch.float32)"
      ]
    },
    {
      "cell_type": "markdown",
      "metadata": {
        "id": "3I2uUuD3YS_I"
      },
      "source": [
        "## Define Model"
      ]
    },
    {
      "cell_type": "code",
      "execution_count": 16,
      "metadata": {
        "id": "yOmLqtPSL9E_"
      },
      "outputs": [],
      "source": [
        "# define nn\n",
        "hidden_size_1 = 16\n",
        "hidden_size_2 = 8\n",
        "\n",
        "model = nn.Sequential(\n",
        "    nn.Linear(2, hidden_size_1),\n",
        "    nn.ReLU(),\n",
        "    nn.Linear(hidden_size_1, hidden_size_2),\n",
        "    nn.ReLU(),\n",
        "    nn.Linear(hidden_size_2, 1)\n",
        ")\n",
        "\n",
        "# define loss function and optimizer\n",
        "criterion = nn.MSELoss()\n",
        "optimizer = optim.Adam(model.parameters(), lr=0.001)"
      ]
    },
    {
      "cell_type": "markdown",
      "source": [
        "## Define Model"
      ],
      "metadata": {
        "id": "DOwoH1dkvytH"
      }
    },
    {
      "cell_type": "code",
      "source": [
        "num_epochs = 500\n",
        "for epoch in range(num_epochs):\n",
        "    optimizer.zero_grad()\n",
        "    outputs = model(X_train_tensor.view(-1, 2))\n",
        "    loss = criterion(outputs, y_train_tensor.view(-1, 1))\n",
        "    loss.backward()\n",
        "    optimizer.step()\n",
        "\n",
        "    if (epoch+1) % 10 == 0:\n",
        "        print(f'Epoch [{epoch+1}/{num_epochs}], Loss: {loss.item():.4f}')"
      ],
      "metadata": {
        "colab": {
          "base_uri": "https://localhost:8080/"
        },
        "id": "LN4XmiAjvuUX",
        "outputId": "63459eb3-3707-4510-8c58-9deda12b5f81"
      },
      "execution_count": 17,
      "outputs": [
        {
          "output_type": "stream",
          "name": "stdout",
          "text": [
            "Epoch [10/500], Loss: 0.7340\n",
            "Epoch [20/500], Loss: 0.5480\n",
            "Epoch [30/500], Loss: 0.4447\n",
            "Epoch [40/500], Loss: 0.3808\n",
            "Epoch [50/500], Loss: 0.3366\n",
            "Epoch [60/500], Loss: 0.3056\n",
            "Epoch [70/500], Loss: 0.2848\n",
            "Epoch [80/500], Loss: 0.2711\n",
            "Epoch [90/500], Loss: 0.2634\n",
            "Epoch [100/500], Loss: 0.2584\n",
            "Epoch [110/500], Loss: 0.2546\n",
            "Epoch [120/500], Loss: 0.2520\n",
            "Epoch [130/500], Loss: 0.2499\n",
            "Epoch [140/500], Loss: 0.2482\n",
            "Epoch [150/500], Loss: 0.2468\n",
            "Epoch [160/500], Loss: 0.2457\n",
            "Epoch [170/500], Loss: 0.2448\n",
            "Epoch [180/500], Loss: 0.2440\n",
            "Epoch [190/500], Loss: 0.2434\n",
            "Epoch [200/500], Loss: 0.2428\n",
            "Epoch [210/500], Loss: 0.2424\n",
            "Epoch [220/500], Loss: 0.2420\n",
            "Epoch [230/500], Loss: 0.2416\n",
            "Epoch [240/500], Loss: 0.2413\n",
            "Epoch [250/500], Loss: 0.2410\n",
            "Epoch [260/500], Loss: 0.2408\n",
            "Epoch [270/500], Loss: 0.2407\n",
            "Epoch [280/500], Loss: 0.2405\n",
            "Epoch [290/500], Loss: 0.2404\n",
            "Epoch [300/500], Loss: 0.2403\n",
            "Epoch [310/500], Loss: 0.2403\n",
            "Epoch [320/500], Loss: 0.2402\n",
            "Epoch [330/500], Loss: 0.2401\n",
            "Epoch [340/500], Loss: 0.2400\n",
            "Epoch [350/500], Loss: 0.2400\n",
            "Epoch [360/500], Loss: 0.2399\n",
            "Epoch [370/500], Loss: 0.2399\n",
            "Epoch [380/500], Loss: 0.2398\n",
            "Epoch [390/500], Loss: 0.2398\n",
            "Epoch [400/500], Loss: 0.2397\n",
            "Epoch [410/500], Loss: 0.2397\n",
            "Epoch [420/500], Loss: 0.2396\n",
            "Epoch [430/500], Loss: 0.2396\n",
            "Epoch [440/500], Loss: 0.2395\n",
            "Epoch [450/500], Loss: 0.2395\n",
            "Epoch [460/500], Loss: 0.2394\n",
            "Epoch [470/500], Loss: 0.2394\n",
            "Epoch [480/500], Loss: 0.2394\n",
            "Epoch [490/500], Loss: 0.2393\n",
            "Epoch [500/500], Loss: 0.2393\n"
          ]
        }
      ]
    },
    {
      "cell_type": "markdown",
      "source": [
        "## Evaluate the model"
      ],
      "metadata": {
        "id": "a2EYSl8OwAWu"
      }
    },
    {
      "cell_type": "code",
      "source": [
        "with torch.no_grad():\n",
        "    y_pred = model(X_test_tensor.view(-1, 2))\n",
        "    test_loss = criterion(y_pred, y_test_tensor.view(-1, 1))\n",
        "    print(f'Test Loss: {test_loss.item():.4f}')"
      ],
      "metadata": {
        "colab": {
          "base_uri": "https://localhost:8080/"
        },
        "id": "HYPk_FgOwOYG",
        "outputId": "3ad4c6e5-4424-4557-b248-7344b1e9b039"
      },
      "execution_count": 18,
      "outputs": [
        {
          "output_type": "stream",
          "name": "stdout",
          "text": [
            "Test Loss: 0.2610\n"
          ]
        }
      ]
    },
    {
      "cell_type": "code",
      "source": [],
      "metadata": {
        "id": "cCCXHa2IzXL2"
      },
      "execution_count": null,
      "outputs": []
    }
  ],
  "metadata": {
    "colab": {
      "machine_shape": "hm",
      "provenance": []
    },
    "kernelspec": {
      "display_name": "Python 3",
      "name": "python3"
    },
    "language_info": {
      "name": "python"
    }
  },
  "nbformat": 4,
  "nbformat_minor": 0
}