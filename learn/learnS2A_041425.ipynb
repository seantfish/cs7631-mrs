{
 "cells": [
  {
   "cell_type": "markdown",
   "metadata": {
    "id": "K2ltUIFtSIRo"
   },
   "source": [
    "## Imports and Set up\n"
   ]
  },
  {
   "cell_type": "code",
   "execution_count": 61,
   "metadata": {
    "colab": {
     "base_uri": "https://localhost:8080/"
    },
    "id": "j4bFtFg6LITX",
    "outputId": "f27cd22b-e013-4f5b-e4b0-29c32359878a"
   },
   "outputs": [
    {
     "name": "stdout",
     "output_type": "stream",
     "text": [
      "Using device: cpu\n",
      "['spd1vis1sep1.csv', 'spd1vis1sep3.csv', 'spd1vis1sep5.csv', 'spd1vis1sep7.csv', 'spd1vis1sep9.csv', 'spd1vis5sep1.csv', 'spd1vis5sep3.csv', 'spd1vis5sep5.csv', 'spd1vis5sep7.csv', 'spd1vis5sep9.csv', 'spd1vis9sep1.csv', 'spd1vis9sep3.csv', 'spd1vis9sep5.csv', 'spd1vis9sep7.csv', 'spd1vis9sep9.csv', 'spd1vis13sep1.csv', 'spd1vis13sep3.csv', 'spd1vis13sep5.csv', 'spd1vis13sep7.csv', 'spd1vis13sep9.csv', 'spd1vis17sep1.csv', 'spd1vis17sep3.csv', 'spd1vis17sep5.csv', 'spd1vis17sep7.csv', 'spd1vis17sep9.csv', 'spd3vis1sep1.csv', 'spd3vis1sep3.csv', 'spd3vis1sep5.csv', 'spd3vis1sep7.csv', 'spd3vis1sep9.csv', 'spd3vis5sep1.csv', 'spd3vis5sep3.csv', 'spd3vis5sep5.csv', 'spd3vis5sep7.csv', 'spd3vis5sep9.csv', 'spd3vis9sep1.csv', 'spd3vis9sep3.csv', 'spd3vis9sep5.csv', 'spd3vis9sep7.csv', 'spd3vis9sep9.csv', 'spd3vis13sep1.csv', 'spd3vis13sep3.csv', 'spd3vis13sep5.csv', 'spd3vis13sep7.csv', 'spd3vis13sep9.csv', 'spd3vis17sep1.csv', 'spd3vis17sep3.csv', 'spd3vis17sep5.csv', 'spd3vis17sep7.csv', 'spd3vis17sep9.csv', 'spd5vis1sep1.csv', 'spd5vis1sep3.csv', 'spd5vis1sep5.csv', 'spd5vis1sep7.csv', 'spd5vis1sep9.csv', 'spd5vis5sep1.csv', 'spd5vis5sep3.csv', 'spd5vis5sep5.csv', 'spd5vis5sep7.csv', 'spd5vis5sep9.csv', 'spd5vis9sep1.csv', 'spd5vis9sep3.csv', 'spd5vis9sep5.csv', 'spd5vis9sep7.csv', 'spd5vis9sep9.csv', 'spd5vis13sep1.csv', 'spd5vis13sep3.csv', 'spd5vis13sep5.csv', 'spd5vis13sep7.csv', 'spd5vis13sep9.csv', 'spd5vis17sep1.csv', 'spd5vis17sep3.csv', 'spd5vis17sep5.csv', 'spd5vis17sep7.csv', 'spd5vis17sep9.csv', 'spd7vis1sep1.csv', 'spd7vis1sep3.csv', 'spd7vis1sep5.csv', 'spd7vis1sep7.csv', 'spd7vis1sep9.csv', 'spd7vis5sep1.csv', 'spd7vis5sep3.csv', 'spd7vis5sep5.csv', 'spd7vis5sep7.csv', 'spd7vis5sep9.csv', 'spd7vis9sep1.csv', 'spd7vis9sep3.csv', 'spd7vis9sep5.csv', 'spd7vis9sep7.csv', 'spd7vis9sep9.csv', 'spd7vis13sep1.csv', 'spd7vis13sep3.csv', 'spd7vis13sep5.csv', 'spd7vis13sep7.csv', 'spd7vis13sep9.csv', 'spd7vis17sep1.csv', 'spd7vis17sep3.csv', 'spd7vis17sep5.csv', 'spd7vis17sep7.csv', 'spd7vis17sep9.csv', 'spd9vis1sep1.csv', 'spd9vis1sep3.csv', 'spd9vis1sep5.csv', 'spd9vis1sep7.csv', 'spd9vis1sep9.csv', 'spd9vis5sep1.csv', 'spd9vis5sep3.csv', 'spd9vis5sep5.csv', 'spd9vis5sep7.csv', 'spd9vis5sep9.csv', 'spd9vis9sep1.csv', 'spd9vis9sep3.csv', 'spd9vis9sep5.csv', 'spd9vis9sep7.csv', 'spd9vis9sep9.csv', 'spd9vis13sep1.csv', 'spd9vis13sep3.csv', 'spd9vis13sep5.csv', 'spd9vis13sep7.csv', 'spd9vis13sep9.csv', 'spd9vis17sep1.csv', 'spd9vis17sep3.csv', 'spd9vis17sep5.csv', 'spd9vis17sep7.csv', 'spd9vis17sep9.csv']\n"
     ]
    }
   ],
   "source": [
    "import numpy as np\n",
    "import os\n",
    "import pandas as pd\n",
    "import torch\n",
    "import torch.nn as nn\n",
    "import torch.optim as optim\n",
    "from sklearn.model_selection import train_test_split\n",
    "from sklearn.preprocessing import StandardScaler\n",
    "\n",
    "device = torch.device(\"cuda\" if torch.cuda.is_available() else \"cpu\")\n",
    "print(f\"Using device: {device}\")\n",
    "\n",
    "\n",
    "number = 1745113721\n",
    "\n",
    "directory = \"../data/\" + str(number)\n",
    "files = os.listdir(directory)\n",
    "dfs = []\n",
    "print(files)\n",
    "\n",
    "# i = 0\n",
    "for f in files:\n",
    "    p = os.path.join(directory, f)\n",
    "    d = pd.read_csv(p)\n",
    "    dfs.append(d)\n",
    "    # i += 1\n",
    "    # if i > 10:\n",
    "    #     break\n",
    "\n",
    "df = pd.concat(dfs, ignore_index=True)\n"
   ]
  },
  {
   "cell_type": "code",
   "execution_count": 62,
   "metadata": {
    "colab": {
     "base_uri": "https://localhost:8080/",
     "height": 762
    },
    "id": "mLAXGhSGbg0h",
    "outputId": "378310a1-e02f-4381-9d7d-e8708526fde2"
   },
   "outputs": [
    {
     "data": {
      "text/html": [
       "<div>\n",
       "<style scoped>\n",
       "    .dataframe tbody tr th:only-of-type {\n",
       "        vertical-align: middle;\n",
       "    }\n",
       "\n",
       "    .dataframe tbody tr th {\n",
       "        vertical-align: top;\n",
       "    }\n",
       "\n",
       "    .dataframe thead th {\n",
       "        text-align: right;\n",
       "    }\n",
       "</style>\n",
       "<table border=\"1\" class=\"dataframe\">\n",
       "  <thead>\n",
       "    <tr style=\"text-align: right;\">\n",
       "      <th></th>\n",
       "      <th>Step</th>\n",
       "      <th>AgentID</th>\n",
       "      <th>NormDir</th>\n",
       "      <th>NeighborInfo</th>\n",
       "      <th>run</th>\n",
       "    </tr>\n",
       "  </thead>\n",
       "  <tbody>\n",
       "    <tr>\n",
       "      <th>0</th>\n",
       "      <td>1</td>\n",
       "      <td>1</td>\n",
       "      <td>[-0.01637289 -0.63029969]</td>\n",
       "      <td>[0.1, 0.05, 0.1, -0.016372894281692307, -0.630...</td>\n",
       "      <td>0</td>\n",
       "    </tr>\n",
       "    <tr>\n",
       "      <th>1</th>\n",
       "      <td>1</td>\n",
       "      <td>2</td>\n",
       "      <td>[-0.9602425   0.27916724]</td>\n",
       "      <td>[0.1, 0.05, 0.1, -0.6455055670988146, 0.198085...</td>\n",
       "      <td>0</td>\n",
       "    </tr>\n",
       "    <tr>\n",
       "      <th>2</th>\n",
       "      <td>1</td>\n",
       "      <td>3</td>\n",
       "      <td>[-0.96392861  0.26616091]</td>\n",
       "      <td>[0.1, 0.05, 0.1, -0.40212428851208726, 0.16341...</td>\n",
       "      <td>0</td>\n",
       "    </tr>\n",
       "    <tr>\n",
       "      <th>3</th>\n",
       "      <td>1</td>\n",
       "      <td>4</td>\n",
       "      <td>[0.31945667 0.94760088]</td>\n",
       "      <td>[0.1, 0.05, 0.1, 0.21060577875371833, 0.850229...</td>\n",
       "      <td>0</td>\n",
       "    </tr>\n",
       "    <tr>\n",
       "      <th>4</th>\n",
       "      <td>1</td>\n",
       "      <td>5</td>\n",
       "      <td>[0.95121752 0.30852103]</td>\n",
       "      <td>[0.1, 0.05, 0.1, 0.6497592294313428, 0.2160094...</td>\n",
       "      <td>0</td>\n",
       "    </tr>\n",
       "  </tbody>\n",
       "</table>\n",
       "</div>"
      ],
      "text/plain": [
       "   Step  AgentID                    NormDir  \\\n",
       "0     1        1  [-0.01637289 -0.63029969]   \n",
       "1     1        2  [-0.9602425   0.27916724]   \n",
       "2     1        3  [-0.96392861  0.26616091]   \n",
       "3     1        4    [0.31945667 0.94760088]   \n",
       "4     1        5    [0.95121752 0.30852103]   \n",
       "\n",
       "                                        NeighborInfo  run  \n",
       "0  [0.1, 0.05, 0.1, -0.016372894281692307, -0.630...    0  \n",
       "1  [0.1, 0.05, 0.1, -0.6455055670988146, 0.198085...    0  \n",
       "2  [0.1, 0.05, 0.1, -0.40212428851208726, 0.16341...    0  \n",
       "3  [0.1, 0.05, 0.1, 0.21060577875371833, 0.850229...    0  \n",
       "4  [0.1, 0.05, 0.1, 0.6497592294313428, 0.2160094...    0  "
      ]
     },
     "execution_count": 62,
     "metadata": {},
     "output_type": "execute_result"
    }
   ],
   "source": [
    "df.head()"
   ]
  },
  {
   "cell_type": "markdown",
   "metadata": {
    "id": "Q2Cd4Pf9SkM9"
   },
   "source": [
    "## Prepare Data"
   ]
  },
  {
   "cell_type": "code",
   "execution_count": 63,
   "metadata": {
    "id": "65bvpyHhL7Jw",
    "scrolled": true
   },
   "outputs": [],
   "source": [
    "# df[\"NeighborDiffSum\"] = df[\"NeighborDiffSum\"].apply(lambda x: eval(x) if isinstance(x, str) else x)\n",
    "df[\"NormDir\"] = df[\"NormDir\"].apply(lambda s: list(map(float, s.strip('[]').split())))\n",
    "df[\"NeighborInfo\"] = df[\"NeighborInfo\"].apply(lambda x: eval(x) if isinstance(x, str) else x)\n",
    "\n"
   ]
  },
  {
   "cell_type": "code",
   "execution_count": 64,
   "metadata": {},
   "outputs": [],
   "source": [
    "\n",
    "\"\"\"\n",
    "group data according to each time step\n",
    "\"\"\"\n",
    "# grouped = df.groupby(\"Step\").agg(list)\n",
    "# neighbor_diff_sum = np.array(grouped[\"NeighborDiffSum\"].to_list())  # Shape: (num_steps, num_agents, 2)\n",
    "neighbor_info = np.array(df[\"NeighborInfo\"].to_list())  # Shape: (num_steps, num_agents, 2)\n",
    "normdir = np.array(df[\"NormDir\"].to_list()) #.reshape(len(grouped), len(grouped.iloc[0][\"NormDir\"]), 1)  # Shape: (num_steps, num_agents, 1)\n",
    "\n",
    "\"\"\"\n",
    "this makes sure angle difference wraps correctly within [-pi. pi]\n",
    "\"\"\"\n",
    "# def angle_difference(theta2, theta1):\n",
    "#     return np.arctan2(np.sin(theta2 - theta1), np.cos(theta2 - theta1))\n",
    "# delta_angle = np.zeros_like(angles)\n",
    "# delta_angle[1:] = angle_difference(angles[1:], angles[:-1]) # Shape: (num_steps, num_agents, 1)\n",
    "\n",
    "# grouped[\"deltaAngle\"] = delta_angle.reshape(len(grouped), -1).tolist()\n",
    "\n",
    "# X_train, X_test, y_train, y_test = train_test_split(neighbor_diff_sum, delta_angle, test_size=0.2, random_state=42)\n",
    "X_train, X_test, y_train, y_test = train_test_split(neighbor_info, normdir, test_size=0.2, random_state=42)\n",
    "\n",
    "# to PyTorch tensors\n",
    "X_train_tensor = torch.tensor(X_train, dtype=torch.float32)\n",
    "X_test_tensor = torch.tensor(X_test, dtype=torch.float32)\n",
    "y_train_tensor = torch.tensor(y_train, dtype=torch.float32)\n",
    "y_test_tensor = torch.tensor(y_test, dtype=torch.float32)"
   ]
  },
  {
   "cell_type": "markdown",
   "metadata": {
    "id": "Q7RbyqnG60sx"
   },
   "source": [
    "## For Debugging"
   ]
  },
  {
   "cell_type": "code",
   "execution_count": 154,
   "metadata": {},
   "outputs": [
    {
     "data": {
      "text/plain": [
       "array([-0.06299599, -0.00369139])"
      ]
     },
     "execution_count": 154,
     "metadata": {},
     "output_type": "execute_result"
    }
   ],
   "source": [
    "normdir.mean(axis=0)"
   ]
  },
  {
   "cell_type": "code",
   "execution_count": 151,
   "metadata": {},
   "outputs": [
    {
     "data": {
      "text/plain": [
       "(1500000, 2)"
      ]
     },
     "execution_count": 151,
     "metadata": {},
     "output_type": "execute_result"
    }
   ],
   "source": [
    "normdir.shape"
   ]
  },
  {
   "cell_type": "code",
   "execution_count": 130,
   "metadata": {},
   "outputs": [
    {
     "data": {
      "text/plain": [
       "0    [0.1, 0.05, 0.1, -0.016372894281692307, -0.630...\n",
       "1    [0.1, 0.05, 0.1, -0.6455055670988146, 0.198085...\n",
       "2    [0.1, 0.05, 0.1, -0.40212428851208726, 0.16341...\n",
       "3    [0.1, 0.05, 0.1, 0.21060577875371833, 0.850229...\n",
       "4    [0.1, 0.05, 0.1, 0.6497592294313428, 0.2160094...\n",
       "Name: NeighborInfo, dtype: object"
      ]
     },
     "execution_count": 130,
     "metadata": {},
     "output_type": "execute_result"
    }
   ],
   "source": [
    "df['NeighborInfo'].head()"
   ]
  },
  {
   "cell_type": "code",
   "execution_count": 129,
   "metadata": {},
   "outputs": [
    {
     "data": {
      "text/plain": [
       "0    [-0.01637289, -0.63029969]\n",
       "1      [-0.9602425, 0.27916724]\n",
       "2     [-0.96392861, 0.26616091]\n",
       "3      [0.31945667, 0.94760088]\n",
       "4      [0.95121752, 0.30852103]\n",
       "Name: NormDir, dtype: object"
      ]
     },
     "execution_count": 129,
     "metadata": {},
     "output_type": "execute_result"
    }
   ],
   "source": [
    "df['NormDir'].head()"
   ]
  },
  {
   "cell_type": "code",
   "execution_count": null,
   "metadata": {
    "colab": {
     "base_uri": "https://localhost:8080/",
     "height": 1000
    },
    "id": "NEB3H_Rx5PZZ",
    "outputId": "c7c92cc5-1af1-4f63-b580-d8f8ef2d999c"
   },
   "outputs": [],
   "source": [
    "# import matplotlib.pyplot as plt\n",
    "# import numpy as np\n",
    "\n",
    "# # Compute incorrect delta angles (naive subtraction)\n",
    "# naive_delta_angle = np.zeros_like(angles)\n",
    "# naive_delta_angle[1:] = angles[1:] - angles[:-1]\n",
    "\n",
    "# # Compute corrected delta angles (using atan2)\n",
    "# corrected_delta_angle = np.zeros_like(angles)\n",
    "# corrected_delta_angle[1:] = np.arctan2(np.sin(angles[1:] - angles[:-1]), np.cos(angles[1:] - angles[:-1]))\n",
    "\n",
    "# # Plot angles over time\n",
    "# plt.figure(figsize=(12, 6))\n",
    "\n",
    "# plt.subplot(3, 1, 1)\n",
    "# plt.plot(angles[:, 3, 0], label=\"Angle (Agent 1)\")\n",
    "# plt.xlabel(\"Time Step\")\n",
    "# plt.ylabel(\"Angle (radians)\")\n",
    "# plt.title(\"Angle Over Time\")\n",
    "# plt.legend()\n",
    "\n",
    "# plt.subplot(3, 1, 2)\n",
    "# plt.plot(naive_delta_angle[:, 1, 0], label=\"Naive Delta Angle\", color=\"red\")\n",
    "# plt.xlabel(\"Time Step\")\n",
    "# plt.ylabel(\"Δ Angle\")\n",
    "# plt.title(\"Naive Delta Angle (No Wrap Handling)\")\n",
    "# plt.legend()\n",
    "\n",
    "# plt.subplot(3, 1, 3)\n",
    "# plt.plot(corrected_delta_angle[:, 1, 0], label=\"Corrected Delta Angle\", color=\"green\")\n",
    "# plt.xlabel(\"Time Step\")\n",
    "# plt.ylabel(\"Δ Angle\")\n",
    "# plt.title(\"Corrected Delta Angle (With atan2 Handling)\")\n",
    "# plt.legend()\n",
    "\n",
    "# plt.tight_layout()\n",
    "# plt.show()\n"
   ]
  },
  {
   "cell_type": "code",
   "execution_count": 6,
   "metadata": {
    "id": "a5oAVaAiq7DO"
   },
   "outputs": [
    {
     "ename": "NameError",
     "evalue": "name 'grouped' is not defined",
     "output_type": "error",
     "traceback": [
      "\u001b[31m---------------------------------------------------------------------------\u001b[39m",
      "\u001b[31mNameError\u001b[39m                                 Traceback (most recent call last)",
      "\u001b[36mCell\u001b[39m\u001b[36m \u001b[39m\u001b[32mIn[6]\u001b[39m\u001b[32m, line 1\u001b[39m\n\u001b[32m----> \u001b[39m\u001b[32m1\u001b[39m normdir_df = pd.DataFrame(normdir.reshape(\u001b[38;5;28mlen\u001b[39m(\u001b[43mgrouped\u001b[49m), -\u001b[32m1\u001b[39m))  \u001b[38;5;66;03m# col: agent number; row: timestep\u001b[39;00m\n\u001b[32m      2\u001b[39m \u001b[38;5;66;03m# delta_angle_df = pd.DataFrame(delta_angle.reshape(len(grouped), -1))  # Each column is an agent's deltaAngle\u001b[39;00m\n",
      "\u001b[31mNameError\u001b[39m: name 'grouped' is not defined"
     ]
    }
   ],
   "source": [
    "# normdir_df = pd.DataFrame(normdir.reshape(len(grouped), -1))  # col: agent number; row: timestep\n",
    "# delta_angle_df = pd.DataFrame(delta_angle.reshape(len(grouped), -1))  # Each column is an agent's deltaAngle"
   ]
  },
  {
   "cell_type": "code",
   "execution_count": null,
   "metadata": {},
   "outputs": [],
   "source": [
    "# normdir_df = pd.DataFrame("
   ]
  },
  {
   "cell_type": "code",
   "execution_count": null,
   "metadata": {
    "colab": {
     "base_uri": "https://localhost:8080/",
     "height": 1000
    },
    "id": "g0MRMzyk6IES",
    "outputId": "9f02fe1a-7222-4f3c-f286-40dfd4e1a6dd"
   },
   "outputs": [],
   "source": [
    "# normdir_df.head(30)"
   ]
  },
  {
   "cell_type": "code",
   "execution_count": null,
   "metadata": {
    "colab": {
     "base_uri": "https://localhost:8080/",
     "height": 787
    },
    "id": "jtgp7kgmxBZ9",
    "outputId": "4a2856a5-3aa4-49a9-8161-96ad1e41892a"
   },
   "outputs": [],
   "source": [
    "# delta_angle_df.head(10)"
   ]
  },
  {
   "cell_type": "code",
   "execution_count": null,
   "metadata": {
    "colab": {
     "base_uri": "https://localhost:8080/"
    },
    "id": "vELRvubL3WBT",
    "outputId": "48dfff25-084e-44e9-9972-027c999147ae"
   },
   "outputs": [],
   "source": [
    "np.arctan2(-0.09105, 0.9958)"
   ]
  },
  {
   "cell_type": "markdown",
   "metadata": {
    "id": "3I2uUuD3YS_I"
   },
   "source": [
    "## Define Model"
   ]
  },
  {
   "cell_type": "code",
   "execution_count": 116,
   "metadata": {
    "id": "yOmLqtPSL9E_"
   },
   "outputs": [],
   "source": [
    "# define nn\n",
    "hidden_size_1 = 24\n",
    "hidden_size_2 = 8\n",
    "hidden_size_3 = 4\n",
    "\n",
    "model = nn.Sequential(\n",
    "    nn.Linear(17, hidden_size_1),\n",
    "    nn.ReLU(),\n",
    "    nn.Linear(hidden_size_1, hidden_size_1),\n",
    "    nn.ReLU(),\n",
    "    nn.Linear(hidden_size_1, hidden_size_2),\n",
    "    nn.ReLU(),\n",
    "    nn.Linear(hidden_size_2, 2)\n",
    ")\n",
    "\n",
    "# define loss function and optimizer\n",
    "criterion = nn.MSELoss()\n",
    "optimizer = optim.Adam(model.parameters(), lr=0.001)"
   ]
  },
  {
   "cell_type": "markdown",
   "metadata": {
    "id": "DOwoH1dkvytH"
   },
   "source": [
    "## Define Model"
   ]
  },
  {
   "cell_type": "code",
   "execution_count": 147,
   "metadata": {},
   "outputs": [],
   "source": [
    "optimizer = optim.Adam(model.parameters(), lr=0.002)"
   ]
  },
  {
   "cell_type": "code",
   "execution_count": 148,
   "metadata": {
    "colab": {
     "base_uri": "https://localhost:8080/"
    },
    "id": "LN4XmiAjvuUX",
    "outputId": "fd1eeb63-de01-4a3d-b0eb-8bae1286fa66"
   },
   "outputs": [
    {
     "name": "stdout",
     "output_type": "stream",
     "text": [
      "Epoch [10/500], Loss: 0.073461\n",
      "Epoch [20/500], Loss: 0.065997\n",
      "Epoch [30/500], Loss: 0.064614\n",
      "Epoch [40/500], Loss: 0.063342\n",
      "Epoch [50/500], Loss: 0.062947\n",
      "Epoch [60/500], Loss: 0.062825\n",
      "Epoch [70/500], Loss: 0.062773\n",
      "Epoch [80/500], Loss: 0.062746\n",
      "Epoch [90/500], Loss: 0.062731\n",
      "Epoch [100/500], Loss: 0.062722\n",
      "Epoch [110/500], Loss: 0.062714\n",
      "Epoch [120/500], Loss: 0.062707\n",
      "Epoch [130/500], Loss: 0.062700\n",
      "Epoch [140/500], Loss: 0.062694\n",
      "Epoch [150/500], Loss: 0.062687\n",
      "Epoch [160/500], Loss: 0.062681\n",
      "Epoch [170/500], Loss: 0.062674\n",
      "Epoch [180/500], Loss: 0.062668\n",
      "Epoch [190/500], Loss: 0.062661\n",
      "Epoch [200/500], Loss: 0.062654\n",
      "Epoch [210/500], Loss: 0.062648\n",
      "Epoch [220/500], Loss: 0.062640\n",
      "Epoch [230/500], Loss: 0.062633\n",
      "Epoch [240/500], Loss: 0.062626\n",
      "Epoch [250/500], Loss: 0.062619\n",
      "Epoch [260/500], Loss: 0.062611\n",
      "Epoch [270/500], Loss: 0.062603\n",
      "Epoch [280/500], Loss: 0.062596\n",
      "Epoch [290/500], Loss: 0.062588\n",
      "Epoch [300/500], Loss: 0.062580\n",
      "Epoch [310/500], Loss: 0.062573\n",
      "Epoch [320/500], Loss: 0.062565\n",
      "Epoch [330/500], Loss: 0.062557\n",
      "Epoch [340/500], Loss: 0.062549\n",
      "Epoch [350/500], Loss: 0.062541\n",
      "Epoch [360/500], Loss: 0.062533\n",
      "Epoch [370/500], Loss: 0.062525\n",
      "Epoch [380/500], Loss: 0.062517\n",
      "Epoch [390/500], Loss: 0.062508\n",
      "Epoch [400/500], Loss: 0.062499\n",
      "Epoch [410/500], Loss: 0.062490\n",
      "Epoch [420/500], Loss: 0.062481\n",
      "Epoch [430/500], Loss: 0.062473\n",
      "Epoch [440/500], Loss: 0.062464\n",
      "Epoch [450/500], Loss: 0.062455\n",
      "Epoch [460/500], Loss: 0.062446\n",
      "Epoch [470/500], Loss: 0.062436\n",
      "Epoch [480/500], Loss: 0.062427\n",
      "Epoch [490/500], Loss: 0.062417\n",
      "Epoch [500/500], Loss: 0.062408\n"
     ]
    }
   ],
   "source": [
    "num_epochs = 500\n",
    "for epoch in range(num_epochs):\n",
    "    optimizer.zero_grad()\n",
    "    outputs = model(X_train_tensor.view(-1, 17))\n",
    "    loss = criterion(outputs, y_train_tensor.view(-1, 2))\n",
    "    loss.backward()\n",
    "    optimizer.step()\n",
    "\n",
    "    if (epoch+1) % 10 == 0:\n",
    "        print(f'Epoch [{epoch+1}/{num_epochs}], Loss: {loss.item():.6f}')"
   ]
  },
  {
   "cell_type": "markdown",
   "metadata": {
    "id": "a2EYSl8OwAWu"
   },
   "source": [
    "## Evaluate the model"
   ]
  },
  {
   "cell_type": "code",
   "execution_count": 149,
   "metadata": {
    "colab": {
     "base_uri": "https://localhost:8080/"
    },
    "id": "HYPk_FgOwOYG",
    "outputId": "dfc54cfb-67af-44a1-8233-078c47ea3bd3"
   },
   "outputs": [
    {
     "name": "stdout",
     "output_type": "stream",
     "text": [
      "Test Loss: 0.062851\n",
      "tensor([-0.6171, -0.7505]) tensor([-0.7677, -0.6408]) tensor([-0.8116, -0.7595])\n",
      "tensor([-0.0079, -0.9626]) tensor([-0.3465, -0.9380]) tensor([ 0.1153, -0.9933])\n",
      "tensor([0.1740, 0.8812]) tensor([0.3264, 0.9452]) tensor([0.2517, 0.9678])\n",
      "tensor([0.2458, 0.6504]) tensor([-0.1676,  0.9859]) tensor([0.8600, 0.5102])\n",
      "tensor([-0.6533, -0.8197]) tensor([-0.6060, -0.7955]) tensor([-0.6060, -0.7955])\n"
     ]
    }
   ],
   "source": [
    "with torch.no_grad():\n",
    "    y_pred = model(X_test_tensor.view(-1, 17))\n",
    "    test_loss = criterion(y_pred, y_test_tensor.view(-1, 2))\n",
    "    print(f'Test Loss: {test_loss.item():.6f}')\n",
    "    print(y_pred[0], y_test_tensor.view(-1, 2)[0], X_test_tensor.view(-1, 17)[0][3:5])\n",
    "    print(y_pred[1], y_test_tensor.view(-1, 2)[1], X_test_tensor.view(-1, 17)[1][3:5])\n",
    "    print(y_pred[2], y_test_tensor.view(-1, 2)[2], X_test_tensor.view(-1, 17)[2][3:5])\n",
    "    print(y_pred[3], y_test_tensor.view(-1, 2)[3], X_test_tensor.view(-1, 17)[3][3:5])\n",
    "    print(y_pred[4], y_test_tensor.view(-1, 2)[4], X_test_tensor.view(-1, 17)[4][3:5])"
   ]
  },
  {
   "cell_type": "markdown",
   "metadata": {
    "id": "ejCjHDzYo7xd"
   },
   "source": [
    "## Save the model"
   ]
  },
  {
   "cell_type": "code",
   "execution_count": 150,
   "metadata": {
    "id": "iXX2HHyUo7xd"
   },
   "outputs": [],
   "source": [
    "torch.save(model, '../models/20250419_v5')"
   ]
  },
  {
   "cell_type": "code",
   "execution_count": 24,
   "metadata": {
    "id": "vGLdg8Rgo7xd"
   },
   "outputs": [],
   "source": []
  }
 ],
 "metadata": {
  "colab": {
   "machine_shape": "hm",
   "provenance": []
  },
  "kernelspec": {
   "display_name": "Python 3 (ipykernel)",
   "language": "python",
   "name": "python3"
  },
  "language_info": {
   "codemirror_mode": {
    "name": "ipython",
    "version": 3
   },
   "file_extension": ".py",
   "mimetype": "text/x-python",
   "name": "python",
   "nbconvert_exporter": "python",
   "pygments_lexer": "ipython3",
   "version": "3.12.9"
  }
 },
 "nbformat": 4,
 "nbformat_minor": 4
}
