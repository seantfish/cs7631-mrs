{
 "cells": [
  {
   "cell_type": "markdown",
   "metadata": {
    "id": "K2ltUIFtSIRo"
   },
   "source": [
    "## Imports and Set up\n"
   ]
  },
  {
   "cell_type": "code",
   "execution_count": 155,
   "metadata": {
    "colab": {
     "base_uri": "https://localhost:8080/"
    },
    "id": "j4bFtFg6LITX",
    "outputId": "f27cd22b-e013-4f5b-e4b0-29c32359878a"
   },
   "outputs": [
    {
     "name": "stdout",
     "output_type": "stream",
     "text": [
      "Using device: cpu\n",
      "['spd1vis1sep1.csv', 'spd1vis1sep3.csv', 'spd1vis1sep5.csv', 'spd1vis1sep7.csv', 'spd1vis1sep9.csv', 'spd1vis5sep1.csv', 'spd1vis5sep3.csv', 'spd1vis5sep5.csv', 'spd1vis5sep7.csv', 'spd1vis5sep9.csv', 'spd1vis9sep1.csv', 'spd1vis9sep3.csv', 'spd1vis9sep5.csv', 'spd1vis9sep7.csv', 'spd1vis9sep9.csv', 'spd1vis13sep1.csv', 'spd1vis13sep3.csv', 'spd1vis13sep5.csv', 'spd1vis13sep7.csv', 'spd1vis13sep9.csv', 'spd1vis17sep1.csv', 'spd1vis17sep3.csv', 'spd1vis17sep5.csv', 'spd1vis17sep7.csv', 'spd1vis17sep9.csv', 'spd3vis1sep1.csv', 'spd3vis1sep3.csv', 'spd3vis1sep5.csv', 'spd3vis1sep7.csv', 'spd3vis1sep9.csv', 'spd3vis5sep1.csv', 'spd3vis5sep3.csv', 'spd3vis5sep5.csv', 'spd3vis5sep7.csv', 'spd3vis5sep9.csv', 'spd3vis9sep1.csv', 'spd3vis9sep3.csv', 'spd3vis9sep5.csv', 'spd3vis9sep7.csv', 'spd3vis9sep9.csv', 'spd3vis13sep1.csv', 'spd3vis13sep3.csv', 'spd3vis13sep5.csv', 'spd3vis13sep7.csv', 'spd3vis13sep9.csv', 'spd3vis17sep1.csv', 'spd3vis17sep3.csv', 'spd3vis17sep5.csv', 'spd3vis17sep7.csv', 'spd3vis17sep9.csv', 'spd5vis1sep1.csv', 'spd5vis1sep3.csv', 'spd5vis1sep5.csv', 'spd5vis1sep7.csv', 'spd5vis1sep9.csv', 'spd5vis5sep1.csv', 'spd5vis5sep3.csv', 'spd5vis5sep5.csv', 'spd5vis5sep7.csv', 'spd5vis5sep9.csv', 'spd5vis9sep1.csv', 'spd5vis9sep3.csv', 'spd5vis9sep5.csv', 'spd5vis9sep7.csv', 'spd5vis9sep9.csv', 'spd5vis13sep1.csv', 'spd5vis13sep3.csv', 'spd5vis13sep5.csv', 'spd5vis13sep7.csv', 'spd5vis13sep9.csv', 'spd5vis17sep1.csv', 'spd5vis17sep3.csv', 'spd5vis17sep5.csv', 'spd5vis17sep7.csv', 'spd5vis17sep9.csv', 'spd7vis1sep1.csv', 'spd7vis1sep3.csv', 'spd7vis1sep5.csv', 'spd7vis1sep7.csv', 'spd7vis1sep9.csv', 'spd7vis5sep1.csv', 'spd7vis5sep3.csv', 'spd7vis5sep5.csv', 'spd7vis5sep7.csv', 'spd7vis5sep9.csv', 'spd7vis9sep1.csv', 'spd7vis9sep3.csv', 'spd7vis9sep5.csv', 'spd7vis9sep7.csv', 'spd7vis9sep9.csv', 'spd7vis13sep1.csv', 'spd7vis13sep3.csv', 'spd7vis13sep5.csv', 'spd7vis13sep7.csv', 'spd7vis13sep9.csv', 'spd7vis17sep1.csv', 'spd7vis17sep3.csv', 'spd7vis17sep5.csv', 'spd7vis17sep7.csv', 'spd7vis17sep9.csv', 'spd9vis1sep1.csv', 'spd9vis1sep3.csv', 'spd9vis1sep5.csv', 'spd9vis1sep7.csv', 'spd9vis1sep9.csv', 'spd9vis5sep1.csv', 'spd9vis5sep3.csv', 'spd9vis5sep5.csv', 'spd9vis5sep7.csv', 'spd9vis5sep9.csv', 'spd9vis9sep1.csv', 'spd9vis9sep3.csv', 'spd9vis9sep5.csv', 'spd9vis9sep7.csv', 'spd9vis9sep9.csv', 'spd9vis13sep1.csv', 'spd9vis13sep3.csv', 'spd9vis13sep5.csv', 'spd9vis13sep7.csv', 'spd9vis13sep9.csv', 'spd9vis17sep1.csv', 'spd9vis17sep3.csv', 'spd9vis17sep5.csv', 'spd9vis17sep7.csv', 'spd9vis17sep9.csv']\n"
     ]
    }
   ],
   "source": [
    "import numpy as np\n",
    "import os\n",
    "import pandas as pd\n",
    "import torch\n",
    "import torch.nn as nn\n",
    "import torch.optim as optim\n",
    "from sklearn.model_selection import train_test_split\n",
    "from sklearn.preprocessing import StandardScaler\n",
    "\n",
    "device = torch.device(\"cuda\" if torch.cuda.is_available() else \"cpu\")\n",
    "print(f\"Using device: {device}\")\n",
    "\n",
    "\n",
    "number = 1745177083\n",
    "\n",
    "directory = \"../data/\" + str(number)\n",
    "files = os.listdir(directory)\n",
    "dfs = []\n",
    "print(files)\n",
    "\n",
    "# i = 0\n",
    "for f in files:\n",
    "    p = os.path.join(directory, f)\n",
    "    d = pd.read_csv(p)\n",
    "    dfs.append(d)\n",
    "    # i += 1\n",
    "    # if i > 10:\n",
    "    #     break\n",
    "\n",
    "df = pd.concat(dfs, ignore_index=True)\n"
   ]
  },
  {
   "cell_type": "code",
   "execution_count": 156,
   "metadata": {
    "colab": {
     "base_uri": "https://localhost:8080/",
     "height": 762
    },
    "id": "mLAXGhSGbg0h",
    "outputId": "378310a1-e02f-4381-9d7d-e8708526fde2"
   },
   "outputs": [
    {
     "data": {
      "text/html": [
       "<div>\n",
       "<style scoped>\n",
       "    .dataframe tbody tr th:only-of-type {\n",
       "        vertical-align: middle;\n",
       "    }\n",
       "\n",
       "    .dataframe tbody tr th {\n",
       "        vertical-align: top;\n",
       "    }\n",
       "\n",
       "    .dataframe thead th {\n",
       "        text-align: right;\n",
       "    }\n",
       "</style>\n",
       "<table border=\"1\" class=\"dataframe\">\n",
       "  <thead>\n",
       "    <tr style=\"text-align: right;\">\n",
       "      <th></th>\n",
       "      <th>Step</th>\n",
       "      <th>AgentID</th>\n",
       "      <th>NormDir</th>\n",
       "      <th>NeighborInfo</th>\n",
       "      <th>run</th>\n",
       "    </tr>\n",
       "  </thead>\n",
       "  <tbody>\n",
       "    <tr>\n",
       "      <th>0</th>\n",
       "      <td>1</td>\n",
       "      <td>1</td>\n",
       "      <td>[0.29104821 0.0766334 ]</td>\n",
       "      <td>[0.1, 0.05, 0.1, 0.36751082894187825, 0.096766...</td>\n",
       "      <td>0</td>\n",
       "    </tr>\n",
       "    <tr>\n",
       "      <th>1</th>\n",
       "      <td>1</td>\n",
       "      <td>2</td>\n",
       "      <td>[-0.99886693  0.04759056]</td>\n",
       "      <td>[0.1, 0.05, 0.1, -0.9478251831935098, 0.088954...</td>\n",
       "      <td>0</td>\n",
       "    </tr>\n",
       "    <tr>\n",
       "      <th>2</th>\n",
       "      <td>1</td>\n",
       "      <td>3</td>\n",
       "      <td>[-0.59417386  0.83265556]</td>\n",
       "      <td>[0.1, 0.05, 0.1, -0.6872096294683163, 0.963032...</td>\n",
       "      <td>0</td>\n",
       "    </tr>\n",
       "    <tr>\n",
       "      <th>3</th>\n",
       "      <td>1</td>\n",
       "      <td>4</td>\n",
       "      <td>[ 0.33599196 -1.6030588 ]</td>\n",
       "      <td>[0.1, 0.05, 0.1, 0.10275643221227515, -0.49026...</td>\n",
       "      <td>0</td>\n",
       "    </tr>\n",
       "    <tr>\n",
       "      <th>4</th>\n",
       "      <td>1</td>\n",
       "      <td>5</td>\n",
       "      <td>[ 0.22106191 -0.54878411]</td>\n",
       "      <td>[0.1, 0.05, 0.1, 0.22106190979533058, -0.54878...</td>\n",
       "      <td>0</td>\n",
       "    </tr>\n",
       "  </tbody>\n",
       "</table>\n",
       "</div>"
      ],
      "text/plain": [
       "   Step  AgentID                    NormDir  \\\n",
       "0     1        1    [0.29104821 0.0766334 ]   \n",
       "1     1        2  [-0.99886693  0.04759056]   \n",
       "2     1        3  [-0.59417386  0.83265556]   \n",
       "3     1        4  [ 0.33599196 -1.6030588 ]   \n",
       "4     1        5  [ 0.22106191 -0.54878411]   \n",
       "\n",
       "                                        NeighborInfo  run  \n",
       "0  [0.1, 0.05, 0.1, 0.36751082894187825, 0.096766...    0  \n",
       "1  [0.1, 0.05, 0.1, -0.9478251831935098, 0.088954...    0  \n",
       "2  [0.1, 0.05, 0.1, -0.6872096294683163, 0.963032...    0  \n",
       "3  [0.1, 0.05, 0.1, 0.10275643221227515, -0.49026...    0  \n",
       "4  [0.1, 0.05, 0.1, 0.22106190979533058, -0.54878...    0  "
      ]
     },
     "execution_count": 156,
     "metadata": {},
     "output_type": "execute_result"
    }
   ],
   "source": [
    "df.head()"
   ]
  },
  {
   "cell_type": "markdown",
   "metadata": {
    "id": "Q2Cd4Pf9SkM9"
   },
   "source": [
    "## Prepare Data"
   ]
  },
  {
   "cell_type": "code",
   "execution_count": 157,
   "metadata": {
    "id": "65bvpyHhL7Jw",
    "scrolled": true
   },
   "outputs": [],
   "source": [
    "# df[\"NeighborDiffSum\"] = df[\"NeighborDiffSum\"].apply(lambda x: eval(x) if isinstance(x, str) else x)\n",
    "df[\"NormDir\"] = df[\"NormDir\"].apply(lambda s: list(map(float, s.strip('[]').split())))\n",
    "df[\"NeighborInfo\"] = df[\"NeighborInfo\"].apply(lambda x: eval(x) if isinstance(x, str) else x)\n",
    "\n"
   ]
  },
  {
   "cell_type": "code",
   "execution_count": 158,
   "metadata": {},
   "outputs": [],
   "source": [
    "\n",
    "\"\"\"\n",
    "group data according to each time step\n",
    "\"\"\"\n",
    "# grouped = df.groupby(\"Step\").agg(list)\n",
    "# neighbor_diff_sum = np.array(grouped[\"NeighborDiffSum\"].to_list())  # Shape: (num_steps, num_agents, 2)\n",
    "neighbor_info = np.array(df[\"NeighborInfo\"].to_list())  # Shape: (num_steps, num_agents, 2)\n",
    "normdir = np.array(df[\"NormDir\"].to_list()) #.reshape(len(grouped), len(grouped.iloc[0][\"NormDir\"]), 1)  # Shape: (num_steps, num_agents, 1)\n",
    "\n",
    "\"\"\"\n",
    "this makes sure angle difference wraps correctly within [-pi. pi]\n",
    "\"\"\"\n",
    "# def angle_difference(theta2, theta1):\n",
    "#     return np.arctan2(np.sin(theta2 - theta1), np.cos(theta2 - theta1))\n",
    "# delta_angle = np.zeros_like(angles)\n",
    "# delta_angle[1:] = angle_difference(angles[1:], angles[:-1]) # Shape: (num_steps, num_agents, 1)\n",
    "\n",
    "# grouped[\"deltaAngle\"] = delta_angle.reshape(len(grouped), -1).tolist()\n",
    "\n",
    "# X_train, X_test, y_train, y_test = train_test_split(neighbor_diff_sum, delta_angle, test_size=0.2, random_state=42)\n",
    "X_train, X_test, y_train, y_test = train_test_split(neighbor_info, normdir, test_size=0.2, random_state=42)\n",
    "\n",
    "# to PyTorch tensors\n",
    "X_train_tensor = torch.tensor(X_train, dtype=torch.float32)\n",
    "X_test_tensor = torch.tensor(X_test, dtype=torch.float32)\n",
    "y_train_tensor = torch.tensor(y_train, dtype=torch.float32)\n",
    "y_test_tensor = torch.tensor(y_test, dtype=torch.float32)"
   ]
  },
  {
   "cell_type": "markdown",
   "metadata": {
    "id": "Q7RbyqnG60sx"
   },
   "source": [
    "## For Debugging"
   ]
  },
  {
   "cell_type": "code",
   "execution_count": 159,
   "metadata": {},
   "outputs": [
    {
     "data": {
      "text/plain": [
       "array([-0.01657095,  0.03072082])"
      ]
     },
     "execution_count": 159,
     "metadata": {},
     "output_type": "execute_result"
    }
   ],
   "source": [
    "normdir.mean(axis=0)"
   ]
  },
  {
   "cell_type": "code",
   "execution_count": 160,
   "metadata": {},
   "outputs": [
    {
     "data": {
      "text/plain": [
       "(4500000, 2)"
      ]
     },
     "execution_count": 160,
     "metadata": {},
     "output_type": "execute_result"
    }
   ],
   "source": [
    "normdir.shape"
   ]
  },
  {
   "cell_type": "code",
   "execution_count": 161,
   "metadata": {},
   "outputs": [
    {
     "data": {
      "text/plain": [
       "0    [0.1, 0.05, 0.1, 0.36751082894187825, 0.096766...\n",
       "1    [0.1, 0.05, 0.1, -0.9478251831935098, 0.088954...\n",
       "2    [0.1, 0.05, 0.1, -0.6872096294683163, 0.963032...\n",
       "3    [0.1, 0.05, 0.1, 0.10275643221227515, -0.49026...\n",
       "4    [0.1, 0.05, 0.1, 0.22106190979533058, -0.54878...\n",
       "Name: NeighborInfo, dtype: object"
      ]
     },
     "execution_count": 161,
     "metadata": {},
     "output_type": "execute_result"
    }
   ],
   "source": [
    "df['NeighborInfo'].head()"
   ]
  },
  {
   "cell_type": "code",
   "execution_count": 162,
   "metadata": {},
   "outputs": [
    {
     "data": {
      "text/plain": [
       "0      [0.29104821, 0.0766334]\n",
       "1    [-0.99886693, 0.04759056]\n",
       "2    [-0.59417386, 0.83265556]\n",
       "3     [0.33599196, -1.6030588]\n",
       "4    [0.22106191, -0.54878411]\n",
       "Name: NormDir, dtype: object"
      ]
     },
     "execution_count": 162,
     "metadata": {},
     "output_type": "execute_result"
    }
   ],
   "source": [
    "df['NormDir'].head()"
   ]
  },
  {
   "cell_type": "code",
   "execution_count": null,
   "metadata": {
    "colab": {
     "base_uri": "https://localhost:8080/",
     "height": 1000
    },
    "id": "NEB3H_Rx5PZZ",
    "outputId": "c7c92cc5-1af1-4f63-b580-d8f8ef2d999c"
   },
   "outputs": [],
   "source": [
    "# import matplotlib.pyplot as plt\n",
    "# import numpy as np\n",
    "\n",
    "# # Compute incorrect delta angles (naive subtraction)\n",
    "# naive_delta_angle = np.zeros_like(angles)\n",
    "# naive_delta_angle[1:] = angles[1:] - angles[:-1]\n",
    "\n",
    "# # Compute corrected delta angles (using atan2)\n",
    "# corrected_delta_angle = np.zeros_like(angles)\n",
    "# corrected_delta_angle[1:] = np.arctan2(np.sin(angles[1:] - angles[:-1]), np.cos(angles[1:] - angles[:-1]))\n",
    "\n",
    "# # Plot angles over time\n",
    "# plt.figure(figsize=(12, 6))\n",
    "\n",
    "# plt.subplot(3, 1, 1)\n",
    "# plt.plot(angles[:, 3, 0], label=\"Angle (Agent 1)\")\n",
    "# plt.xlabel(\"Time Step\")\n",
    "# plt.ylabel(\"Angle (radians)\")\n",
    "# plt.title(\"Angle Over Time\")\n",
    "# plt.legend()\n",
    "\n",
    "# plt.subplot(3, 1, 2)\n",
    "# plt.plot(naive_delta_angle[:, 1, 0], label=\"Naive Delta Angle\", color=\"red\")\n",
    "# plt.xlabel(\"Time Step\")\n",
    "# plt.ylabel(\"Δ Angle\")\n",
    "# plt.title(\"Naive Delta Angle (No Wrap Handling)\")\n",
    "# plt.legend()\n",
    "\n",
    "# plt.subplot(3, 1, 3)\n",
    "# plt.plot(corrected_delta_angle[:, 1, 0], label=\"Corrected Delta Angle\", color=\"green\")\n",
    "# plt.xlabel(\"Time Step\")\n",
    "# plt.ylabel(\"Δ Angle\")\n",
    "# plt.title(\"Corrected Delta Angle (With atan2 Handling)\")\n",
    "# plt.legend()\n",
    "\n",
    "# plt.tight_layout()\n",
    "# plt.show()\n"
   ]
  },
  {
   "cell_type": "code",
   "execution_count": 6,
   "metadata": {
    "id": "a5oAVaAiq7DO"
   },
   "outputs": [
    {
     "ename": "NameError",
     "evalue": "name 'grouped' is not defined",
     "output_type": "error",
     "traceback": [
      "\u001b[31m---------------------------------------------------------------------------\u001b[39m",
      "\u001b[31mNameError\u001b[39m                                 Traceback (most recent call last)",
      "\u001b[36mCell\u001b[39m\u001b[36m \u001b[39m\u001b[32mIn[6]\u001b[39m\u001b[32m, line 1\u001b[39m\n\u001b[32m----> \u001b[39m\u001b[32m1\u001b[39m normdir_df = pd.DataFrame(normdir.reshape(\u001b[38;5;28mlen\u001b[39m(\u001b[43mgrouped\u001b[49m), -\u001b[32m1\u001b[39m))  \u001b[38;5;66;03m# col: agent number; row: timestep\u001b[39;00m\n\u001b[32m      2\u001b[39m \u001b[38;5;66;03m# delta_angle_df = pd.DataFrame(delta_angle.reshape(len(grouped), -1))  # Each column is an agent's deltaAngle\u001b[39;00m\n",
      "\u001b[31mNameError\u001b[39m: name 'grouped' is not defined"
     ]
    }
   ],
   "source": [
    "# normdir_df = pd.DataFrame(normdir.reshape(len(grouped), -1))  # col: agent number; row: timestep\n",
    "# delta_angle_df = pd.DataFrame(delta_angle.reshape(len(grouped), -1))  # Each column is an agent's deltaAngle"
   ]
  },
  {
   "cell_type": "code",
   "execution_count": null,
   "metadata": {},
   "outputs": [],
   "source": [
    "# normdir_df = pd.DataFrame("
   ]
  },
  {
   "cell_type": "code",
   "execution_count": null,
   "metadata": {
    "colab": {
     "base_uri": "https://localhost:8080/",
     "height": 1000
    },
    "id": "g0MRMzyk6IES",
    "outputId": "9f02fe1a-7222-4f3c-f286-40dfd4e1a6dd"
   },
   "outputs": [],
   "source": [
    "# normdir_df.head(30)"
   ]
  },
  {
   "cell_type": "code",
   "execution_count": null,
   "metadata": {
    "colab": {
     "base_uri": "https://localhost:8080/",
     "height": 787
    },
    "id": "jtgp7kgmxBZ9",
    "outputId": "4a2856a5-3aa4-49a9-8161-96ad1e41892a"
   },
   "outputs": [],
   "source": [
    "# delta_angle_df.head(10)"
   ]
  },
  {
   "cell_type": "code",
   "execution_count": null,
   "metadata": {
    "colab": {
     "base_uri": "https://localhost:8080/"
    },
    "id": "vELRvubL3WBT",
    "outputId": "48dfff25-084e-44e9-9972-027c999147ae"
   },
   "outputs": [],
   "source": [
    "np.arctan2(-0.09105, 0.9958)"
   ]
  },
  {
   "cell_type": "markdown",
   "metadata": {
    "id": "3I2uUuD3YS_I"
   },
   "source": [
    "## Define Model"
   ]
  },
  {
   "cell_type": "code",
   "execution_count": 163,
   "metadata": {
    "id": "yOmLqtPSL9E_"
   },
   "outputs": [],
   "source": [
    "# define nn\n",
    "hidden_size_1 = 20\n",
    "hidden_size_2 = 8\n",
    "hidden_size_3 = 4\n",
    "\n",
    "model = nn.Sequential(\n",
    "    nn.Linear(17, hidden_size_1),\n",
    "    nn.ReLU(),\n",
    "    nn.Linear(hidden_size_1, hidden_size_1),\n",
    "    nn.ReLU(),\n",
    "    nn.Linear(hidden_size_1, hidden_size_2),\n",
    "    nn.ReLU(),\n",
    "    nn.Linear(hidden_size_2, 2)\n",
    ")\n",
    "\n",
    "# define loss function and optimizer\n",
    "criterion = nn.MSELoss()\n",
    "optimizer = optim.Adam(model.parameters(), lr=0.001)"
   ]
  },
  {
   "cell_type": "markdown",
   "metadata": {
    "id": "DOwoH1dkvytH"
   },
   "source": [
    "## Define Model"
   ]
  },
  {
   "cell_type": "code",
   "execution_count": 167,
   "metadata": {
    "colab": {
     "base_uri": "https://localhost:8080/"
    },
    "id": "LN4XmiAjvuUX",
    "outputId": "fd1eeb63-de01-4a3d-b0eb-8bae1286fa66"
   },
   "outputs": [
    {
     "name": "stdout",
     "output_type": "stream",
     "text": [
      "Epoch [10/1000], Loss: 3.842391\n",
      "Epoch [20/1000], Loss: 3.841968\n",
      "Epoch [30/1000], Loss: 3.841324\n",
      "Epoch [40/1000], Loss: 3.841191\n",
      "Epoch [50/1000], Loss: 3.840996\n",
      "Epoch [60/1000], Loss: 3.840882\n",
      "Epoch [70/1000], Loss: 3.840280\n",
      "Epoch [80/1000], Loss: 3.839952\n",
      "Epoch [90/1000], Loss: 3.839534\n",
      "Epoch [100/1000], Loss: 3.839298\n",
      "Epoch [110/1000], Loss: 3.838818\n",
      "Epoch [120/1000], Loss: 3.838433\n",
      "Epoch [130/1000], Loss: 3.838221\n",
      "Epoch [140/1000], Loss: 3.838048\n",
      "Epoch [150/1000], Loss: 3.837396\n",
      "Epoch [160/1000], Loss: 3.836944\n",
      "Epoch [170/1000], Loss: 3.836641\n",
      "Epoch [180/1000], Loss: 3.836246\n",
      "Epoch [190/1000], Loss: 3.835889\n",
      "Epoch [200/1000], Loss: 3.835588\n",
      "Epoch [210/1000], Loss: 3.835276\n",
      "Epoch [220/1000], Loss: 3.834566\n",
      "Epoch [230/1000], Loss: 3.834436\n",
      "Epoch [240/1000], Loss: 3.834122\n",
      "Epoch [250/1000], Loss: 3.833721\n",
      "Epoch [260/1000], Loss: 3.833416\n",
      "Epoch [270/1000], Loss: 3.833189\n",
      "Epoch [280/1000], Loss: 3.832664\n",
      "Epoch [290/1000], Loss: 3.832120\n",
      "Epoch [300/1000], Loss: 3.831636\n",
      "Epoch [310/1000], Loss: 3.831302\n",
      "Epoch [320/1000], Loss: 3.830396\n",
      "Epoch [330/1000], Loss: 3.829700\n",
      "Epoch [340/1000], Loss: 3.829146\n",
      "Epoch [350/1000], Loss: 3.828793\n",
      "Epoch [360/1000], Loss: 3.828443\n",
      "Epoch [370/1000], Loss: 3.827898\n",
      "Epoch [380/1000], Loss: 3.827262\n",
      "Epoch [390/1000], Loss: 3.827037\n",
      "Epoch [400/1000], Loss: 3.826373\n",
      "Epoch [410/1000], Loss: 3.825909\n",
      "Epoch [420/1000], Loss: 3.825633\n",
      "Epoch [430/1000], Loss: 3.825513\n",
      "Epoch [440/1000], Loss: 3.825029\n",
      "Epoch [450/1000], Loss: 3.824694\n",
      "Epoch [460/1000], Loss: 3.824479\n",
      "Epoch [470/1000], Loss: 3.823802\n",
      "Epoch [480/1000], Loss: 3.823571\n",
      "Epoch [490/1000], Loss: 3.823213\n",
      "Epoch [500/1000], Loss: 3.823099\n",
      "Epoch [510/1000], Loss: 3.822533\n",
      "Epoch [520/1000], Loss: 3.822308\n",
      "Epoch [530/1000], Loss: 3.821702\n",
      "Epoch [540/1000], Loss: 3.821362\n",
      "Epoch [550/1000], Loss: 3.820762\n",
      "Epoch [560/1000], Loss: 3.820304\n",
      "Epoch [570/1000], Loss: 3.819993\n",
      "Epoch [580/1000], Loss: 3.820426\n",
      "Epoch [590/1000], Loss: 3.819515\n",
      "Epoch [600/1000], Loss: 3.819482\n",
      "Epoch [610/1000], Loss: 3.818904\n",
      "Epoch [620/1000], Loss: 3.818674\n",
      "Epoch [630/1000], Loss: 3.818059\n",
      "Epoch [640/1000], Loss: 3.817790\n",
      "Epoch [650/1000], Loss: 3.817770\n",
      "Epoch [660/1000], Loss: 3.817351\n",
      "Epoch [670/1000], Loss: 3.817134\n",
      "Epoch [680/1000], Loss: 3.816753\n",
      "Epoch [690/1000], Loss: 3.816844\n",
      "Epoch [700/1000], Loss: 3.816556\n",
      "Epoch [710/1000], Loss: 3.815957\n",
      "Epoch [720/1000], Loss: 3.815711\n",
      "Epoch [730/1000], Loss: 3.815344\n",
      "Epoch [740/1000], Loss: 3.815076\n",
      "Epoch [750/1000], Loss: 3.814520\n",
      "Epoch [760/1000], Loss: 3.814516\n",
      "Epoch [770/1000], Loss: 3.813930\n",
      "Epoch [780/1000], Loss: 3.813639\n",
      "Epoch [790/1000], Loss: 3.813544\n",
      "Epoch [800/1000], Loss: 3.813583\n",
      "Epoch [810/1000], Loss: 3.813642\n",
      "Epoch [820/1000], Loss: 3.813114\n",
      "Epoch [830/1000], Loss: 3.812987\n",
      "Epoch [840/1000], Loss: 3.812553\n",
      "Epoch [850/1000], Loss: 3.812347\n",
      "Epoch [860/1000], Loss: 3.812298\n",
      "Epoch [870/1000], Loss: 3.812011\n",
      "Epoch [880/1000], Loss: 3.811837\n",
      "Epoch [890/1000], Loss: 3.811583\n",
      "Epoch [900/1000], Loss: 3.811470\n",
      "Epoch [910/1000], Loss: 3.811605\n",
      "Epoch [920/1000], Loss: 3.811311\n",
      "Epoch [930/1000], Loss: 3.810969\n",
      "Epoch [940/1000], Loss: 3.810907\n",
      "Epoch [950/1000], Loss: 3.810952\n",
      "Epoch [960/1000], Loss: 3.810635\n",
      "Epoch [970/1000], Loss: 3.810406\n",
      "Epoch [980/1000], Loss: 3.810351\n",
      "Epoch [990/1000], Loss: 3.809963\n",
      "Epoch [1000/1000], Loss: 3.809500\n"
     ]
    }
   ],
   "source": [
    "num_epochs = 1000\n",
    "for epoch in range(num_epochs):\n",
    "    optimizer.zero_grad()\n",
    "    outputs = model(X_train_tensor.view(-1, 17))\n",
    "    loss = criterion(outputs, y_train_tensor.view(-1, 2))\n",
    "    loss.backward()\n",
    "    optimizer.step()\n",
    "\n",
    "    if (epoch+1) % 10 == 0:\n",
    "        print(f'Epoch [{epoch+1}/{num_epochs}], Loss: {loss.item():.6f}')"
   ]
  },
  {
   "cell_type": "markdown",
   "metadata": {
    "id": "a2EYSl8OwAWu"
   },
   "source": [
    "## Evaluate the model"
   ]
  },
  {
   "cell_type": "code",
   "execution_count": 169,
   "metadata": {
    "colab": {
     "base_uri": "https://localhost:8080/"
    },
    "id": "HYPk_FgOwOYG",
    "outputId": "dfc54cfb-67af-44a1-8233-078c47ea3bd3"
   },
   "outputs": [
    {
     "name": "stdout",
     "output_type": "stream",
     "text": [
      "Test Loss: 3.403774\n",
      "tensor([ 1.0166, -0.5935]) tensor([ 0.9748, -0.2233]) tensor([ 0.8611, -0.5084])\n",
      "tensor([0.0129, 1.1023]) tensor([0.5402, 1.7124]) tensor([-0.3356,  0.9420])\n",
      "tensor([-0.8896, -0.3172]) tensor([-1.4264, -0.4759]) tensor([-0.9877, -0.1563])\n",
      "tensor([-1.0456,  0.4186]) tensor([-1.6805,  0.6251]) tensor([-0.9579,  0.2872])\n",
      "tensor([-0.4498,  0.7818]) tensor([-3.8563,  3.2109]) tensor([-0.5651,  0.8250])\n"
     ]
    }
   ],
   "source": [
    "with torch.no_grad():\n",
    "    y_pred = model(X_test_tensor.view(-1, 17))\n",
    "    test_loss = criterion(y_pred, y_test_tensor.view(-1, 2))\n",
    "    print(f'Test Loss: {test_loss.item():.6f}')\n",
    "    print(y_pred[0], y_test_tensor.view(-1, 2)[0], X_test_tensor.view(-1, 17)[0][3:5])\n",
    "    print(y_pred[1], y_test_tensor.view(-1, 2)[1], X_test_tensor.view(-1, 17)[1][3:5])\n",
    "    print(y_pred[2], y_test_tensor.view(-1, 2)[2], X_test_tensor.view(-1, 17)[2][3:5])\n",
    "    print(y_pred[3], y_test_tensor.view(-1, 2)[3], X_test_tensor.view(-1, 17)[3][3:5])\n",
    "    print(y_pred[4], y_test_tensor.view(-1, 2)[4], X_test_tensor.view(-1, 17)[4][3:5])"
   ]
  },
  {
   "cell_type": "markdown",
   "metadata": {
    "id": "ejCjHDzYo7xd"
   },
   "source": [
    "## Save the model"
   ]
  },
  {
   "cell_type": "code",
   "execution_count": 170,
   "metadata": {
    "id": "iXX2HHyUo7xd"
   },
   "outputs": [],
   "source": [
    "torch.save(model, '../models/20250420_v2')"
   ]
  },
  {
   "cell_type": "code",
   "execution_count": 24,
   "metadata": {
    "id": "vGLdg8Rgo7xd"
   },
   "outputs": [],
   "source": []
  }
 ],
 "metadata": {
  "colab": {
   "machine_shape": "hm",
   "provenance": []
  },
  "kernelspec": {
   "display_name": "Python 3 (ipykernel)",
   "language": "python",
   "name": "python3"
  },
  "language_info": {
   "codemirror_mode": {
    "name": "ipython",
    "version": 3
   },
   "file_extension": ".py",
   "mimetype": "text/x-python",
   "name": "python",
   "nbconvert_exporter": "python",
   "pygments_lexer": "ipython3",
   "version": "3.12.9"
  }
 },
 "nbformat": 4,
 "nbformat_minor": 4
}
